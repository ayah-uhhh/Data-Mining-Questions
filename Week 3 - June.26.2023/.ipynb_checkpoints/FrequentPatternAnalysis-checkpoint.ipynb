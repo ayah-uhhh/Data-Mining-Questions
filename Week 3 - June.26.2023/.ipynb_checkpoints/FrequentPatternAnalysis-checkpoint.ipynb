{
 "cells": [
  {
   "cell_type": "markdown",
   "id": "7a547d30",
   "metadata": {},
   "source": [
    "# Frequent Pattern Analysis ft. Apriori Algorithm"
   ]
  },
  {
   "cell_type": "markdown",
   "id": "3ef01745",
   "metadata": {},
   "source": [
    "Hello, \n",
    "\n",
    "In this problem, we will be doing a problem, using Python to assist with Frequent Pattern Analysis. "
   ]
  },
  {
   "cell_type": "markdown",
   "id": "b147c2a0",
   "metadata": {},
   "source": [
    "First, import the correct libraries and import in the transactions.csv dataset."
   ]
  },
  {
   "cell_type": "code",
   "execution_count": null,
   "id": "c29d176e",
   "metadata": {},
   "outputs": [],
   "source": [
    "# Your Code Here"
   ]
  },
  {
   "cell_type": "markdown",
   "id": "4c826059",
   "metadata": {},
   "source": [
    "If you haven't already, the dataset needs to be cleaned up a little bit. The best way to do FP analysis is to create a Pandas dataframe, where each column represents a unique item (milk, bread, etc.) and each row represents a transaction where if the transaction has that item, we put 1 and 0 for transactions without that item. \n",
    "\n",
    "Since this is kind of difficult, here are the listed out steps.\n",
    "\n",
    "1. Combine each row into a single column and drop the NaNs.\n",
    "2. Create a set of the unique items in the entire dataset.\n",
    "3. Create a new DataFrame and iterate through the list from step 1 and append the results into the new DataFrame. "
   ]
  },
  {
   "cell_type": "code",
   "execution_count": null,
   "id": "b79b0787",
   "metadata": {},
   "outputs": [],
   "source": [
    "# Your Code Here"
   ]
  },
  {
   "cell_type": "markdown",
   "id": "ee5a3245",
   "metadata": {},
   "source": [
    "Next, import in the Apriori. One way of doing this is to use pip to install mlxtend.\n",
    "\n",
    "After that, we can use the apriori function to find some frequent itemsets. Using a minimum support of 0.2, what are the frequent itemsets and how many are there? What does it mean? "
   ]
  },
  {
   "cell_type": "code",
   "execution_count": null,
   "id": "782d1b3a",
   "metadata": {},
   "outputs": [],
   "source": [
    "# Your Code Here\n",
    "\n",
    "# pip install ________"
   ]
  },
  {
   "cell_type": "code",
   "execution_count": null,
   "id": "6eaead9e",
   "metadata": {},
   "outputs": [],
   "source": [
    "# Your Code Here"
   ]
  },
  {
   "cell_type": "code",
   "execution_count": null,
   "id": "37f6c2d8",
   "metadata": {},
   "outputs": [],
   "source": [
    "# Explanation Here"
   ]
  },
  {
   "cell_type": "markdown",
   "id": "15bc540e",
   "metadata": {},
   "source": [
    "Lastly, we can use the frequent itemsets to create association rules. Using a minimum confidence level of 0.4, what are the association rules we can mine? How many are there? What do these association rules mean?"
   ]
  },
  {
   "cell_type": "code",
   "execution_count": null,
   "id": "be5ddaa5",
   "metadata": {},
   "outputs": [],
   "source": [
    "# Your Code Here"
   ]
  },
  {
   "cell_type": "code",
   "execution_count": null,
   "id": "5961bcf7",
   "metadata": {},
   "outputs": [],
   "source": [
    "# Explanation Here"
   ]
  }
 ],
 "metadata": {
  "kernelspec": {
   "display_name": "Python 3 (ipykernel)",
   "language": "python",
   "name": "python3"
  },
  "language_info": {
   "codemirror_mode": {
    "name": "ipython",
    "version": 3
   },
   "file_extension": ".py",
   "mimetype": "text/x-python",
   "name": "python",
   "nbconvert_exporter": "python",
   "pygments_lexer": "ipython3",
   "version": "3.9.12"
  }
 },
 "nbformat": 4,
 "nbformat_minor": 5
}
