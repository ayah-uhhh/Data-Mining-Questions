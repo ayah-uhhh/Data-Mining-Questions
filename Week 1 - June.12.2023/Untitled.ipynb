{
 "cells": [
  {
   "cell_type": "markdown",
   "id": "048f19c0",
   "metadata": {},
   "source": [
    "# Data Preprocessing Sample Question"
   ]
  },
  {
   "cell_type": "markdown",
   "id": "030c5050",
   "metadata": {},
   "source": [
    "First, we want to import in pandas and read the data in. Remember to also display the data."
   ]
  },
  {
   "cell_type": "code",
   "execution_count": 6,
   "id": "141dc4ce",
   "metadata": {},
   "outputs": [],
   "source": [
    "# Your Code HERE\n",
    "\n"
   ]
  },
  {
   "cell_type": "markdown",
   "id": "6284a503",
   "metadata": {},
   "source": [
    "Next, we see that the data represents gender and age of different customers.\n",
    "\n",
    "1. There is a missing gender value. How would you deal with the missing value?"
   ]
  },
  {
   "cell_type": "code",
   "execution_count": 7,
   "id": "fed631de",
   "metadata": {},
   "outputs": [],
   "source": [
    "# Your Code HERE\n",
    "\n"
   ]
  },
  {
   "cell_type": "markdown",
   "id": "0c677764",
   "metadata": {},
   "source": [
    "2. There are 2 issues with the age column. The ages are represented as strings. Also, there is a missing value. What order should we fix the issues in? How would you clean up this data?"
   ]
  },
  {
   "cell_type": "code",
   "execution_count": 8,
   "id": "dc6ceb5e",
   "metadata": {},
   "outputs": [],
   "source": [
    "# Your Code HERE\n",
    "\n"
   ]
  },
  {
   "cell_type": "markdown",
   "id": "c2526492",
   "metadata": {},
   "source": [
    "3. Finally, we want to visualize our data. Choose an appropriate graph type to compare age and "
   ]
  }
 ],
 "metadata": {
  "kernelspec": {
   "display_name": "Python 3 (ipykernel)",
   "language": "python",
   "name": "python3"
  },
  "language_info": {
   "codemirror_mode": {
    "name": "ipython",
    "version": 3
   },
   "file_extension": ".py",
   "mimetype": "text/x-python",
   "name": "python",
   "nbconvert_exporter": "python",
   "pygments_lexer": "ipython3",
   "version": "3.9.13"
  }
 },
 "nbformat": 4,
 "nbformat_minor": 5
}
