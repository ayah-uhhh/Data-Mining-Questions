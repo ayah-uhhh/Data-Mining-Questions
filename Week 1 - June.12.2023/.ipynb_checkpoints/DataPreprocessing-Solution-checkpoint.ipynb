{
 "cells": [
  {
   "cell_type": "markdown",
   "id": "019e14da",
   "metadata": {},
   "source": [
    "# Data Preprocessing Sample Question"
   ]
  },
  {
   "cell_type": "markdown",
   "id": "bf2efbda",
   "metadata": {},
   "source": [
    "First, we want to import in pandas and read the data in. Remember to also display the data."
   ]
  },
  {
   "cell_type": "code",
   "execution_count": 6,
   "id": "b3d390d5",
   "metadata": {},
   "outputs": [],
   "source": [
    "# Your Code HERE\n",
    "\n",
    "import pandas as pd\n",
    "\n",
    "df = pd.read_csv('customerdata.csv')\n",
    "\n",
    "df"
   ]
  },
  {
   "cell_type": "markdown",
   "id": "a200f887",
   "metadata": {},
   "source": [
    "Next, we see that the data represents gender and age of different customers.\n",
    "\n",
    "1. There is a missing gender value. How would you deal with the missing value?"
   ]
  },
  {
   "cell_type": "code",
   "execution_count": 7,
   "id": "c2306044",
   "metadata": {},
   "outputs": [],
   "source": [
    "# Your Code HERE\n",
    "\n",
    "df.fillna(df['Gender'].mode()[0], inplace=True)"
   ]
  },
  {
   "cell_type": "markdown",
   "id": "4f4bbc3c",
   "metadata": {},
   "source": [
    "2. There are 2 issues with the age column. The ages are represented as strings. Also, there is a missing value. What order should we fix the issues in? How would you clean up this data?"
   ]
  },
  {
   "cell_type": "code",
   "execution_count": 8,
   "id": "a54b53d8",
   "metadata": {},
   "outputs": [],
   "source": [
    "# Your Code HERE\n",
    "\n",
    "df['Age'] = pd.to_numeric(df['Income'])\n",
    "\n",
    "df['Age'].fillna(df['Age'].mean(), inplace=True)"
   ]
  },
  {
   "cell_type": "markdown",
   "id": "e089df98",
   "metadata": {},
   "source": [
    "3. Finally, we want to visualize our data. Choose an appropriate graph type to compare gender and age."
   ]
  },
  {
   "cell_type": "code",
   "execution_count": null,
   "id": "d5b11807",
   "metadata": {},
   "outputs": [],
   "source": [
    "# Your Code HERE\n",
    "\n",
    "# using boxplot\n",
    "import matplotlib.pyplot as plt\n",
    "import seaborn as sns\n",
    "\n",
    "plt.subplot(1,2,1)\n",
    "sns.boxplot(x='Gender', y='Age', data=df)\n",
    "plt.title('Age vs Gender')\n",
    "\n",
    "plt.show()"
   ]
  }
 ],
 "metadata": {
  "kernelspec": {
   "display_name": "Python 3 (ipykernel)",
   "language": "python",
   "name": "python3"
  },
  "language_info": {
   "codemirror_mode": {
    "name": "ipython",
    "version": 3
   },
   "file_extension": ".py",
   "mimetype": "text/x-python",
   "name": "python",
   "nbconvert_exporter": "python",
   "pygments_lexer": "ipython3",
   "version": "3.9.13"
  }
 },
 "nbformat": 4,
 "nbformat_minor": 5
}
