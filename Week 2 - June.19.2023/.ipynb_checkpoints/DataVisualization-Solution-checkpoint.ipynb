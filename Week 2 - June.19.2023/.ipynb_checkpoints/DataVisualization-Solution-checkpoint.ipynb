{
 "cells": [
  {
   "cell_type": "markdown",
   "id": "99dbc738",
   "metadata": {},
   "source": [
    "# Data Visualization Sample Question Solution"
   ]
  },
  {
   "cell_type": "markdown",
   "id": "5693bc1e",
   "metadata": {},
   "source": [
    "For this week, we will be doing doing a couple of data visualizations using a couple different types of graphs. We will be using the built-in Titanic dataset. This is a very popular dataset and you have probably seen or used it before."
   ]
  },
  {
   "cell_type": "markdown",
   "id": "fbeb5ec8",
   "metadata": {},
   "source": [
    "First, import in the correct libraries."
   ]
  },
  {
   "cell_type": "code",
   "execution_count": null,
   "id": "5fd230e7",
   "metadata": {},
   "outputs": [],
   "source": [
    "# YOUR CODE HERE\n",
    "\n",
    "import seaborn as sns\n",
    "import matplotlib.pyplot as plt"
   ]
  },
  {
   "cell_type": "markdown",
   "id": "fb1f26cf",
   "metadata": {},
   "source": [
    "1. Load in the Titanic dataset from seaborn. Display the dataset. "
   ]
  },
  {
   "cell_type": "code",
   "execution_count": null,
   "id": "53f58bf2",
   "metadata": {},
   "outputs": [],
   "source": [
    "# YOUR CODE HERE\n",
    "\n",
    "# Load the titanic dataset\n",
    "titanic = sns.load_dataset(\"titanic\")\n",
    "\n",
    "# Display the first 5 rows of the dataframe\n",
    "print(titanic.head(5))"
   ]
  },
  {
   "cell_type": "markdown",
   "id": "e522dd34",
   "metadata": {},
   "source": [
    "2. First, let's make a bar chart. Choose 2 attributes, and make a bar chart."
   ]
  },
  {
   "cell_type": "code",
   "execution_count": null,
   "id": "4631f4aa",
   "metadata": {},
   "outputs": [],
   "source": [
    "# YOUR CODE HERE\n",
    "\n",
    "# Bar chart of survival count for each 'pclass'\n",
    "sns.countplot(x='pclass', hue='survived', data=titanic)\n",
    "plt.title('Survival Count for Each Passenger Class')\n",
    "plt.xlabel('Passenger Class')\n",
    "plt.ylabel('Count')\n",
    "plt.show()"
   ]
  },
  {
   "cell_type": "markdown",
   "id": "42156e41",
   "metadata": {},
   "source": [
    "3. Next, let's make a histogram. Choose 1 attribute to make a histogram."
   ]
  },
  {
   "cell_type": "code",
   "execution_count": null,
   "id": "1098bed7",
   "metadata": {},
   "outputs": [],
   "source": [
    "# YOUR CODE HERE\n",
    "\n",
    "# Histogram of 'age'\n",
    "plt.figure(figsize=(8,6))\n",
    "sns.histplot(titanic['age'].dropna(), kde=False, bins=20)\n",
    "plt.title('Age Distribution of Passengers')\n",
    "plt.xlabel('Age')\n",
    "plt.ylabel('Frequency')\n",
    "plt.show()"
   ]
  },
  {
   "cell_type": "markdown",
   "id": "119621fe",
   "metadata": {},
   "source": [
    "4. For the next plot, let's make a boxplot. Choose 2 attributes to make a boxplot."
   ]
  },
  {
   "cell_type": "code",
   "execution_count": null,
   "id": "99a92968",
   "metadata": {},
   "outputs": [],
   "source": [
    "# YOUR CODE HERE\n",
    "\n",
    "# Boxplot of 'fare' across 'pclass'\n",
    "plt.figure(figsize=(8,6))\n",
    "sns.boxplot(x='pclass', y='fare', data=titanic)\n",
    "plt.title('Fare Distribution Across Passenger Classes')\n",
    "plt.xlabel('Passenger Class')\n",
    "plt.ylabel('Fare')\n",
    "plt.show()"
   ]
  },
  {
   "cell_type": "markdown",
   "id": "a4a752cc",
   "metadata": {},
   "source": [
    "5. Finally, data visualization is about telling a story. In one sentence, what story is your visualizations trying to tell?"
   ]
  },
  {
   "cell_type": "markdown",
   "id": "2f16afdd",
   "metadata": {},
   "source": [
    "Passengers aboard the Titanic that better 'pclass' were more likely to survive."
   ]
  }
 ],
 "metadata": {
  "kernelspec": {
   "display_name": "Python 3 (ipykernel)",
   "language": "python",
   "name": "python3"
  },
  "language_info": {
   "codemirror_mode": {
    "name": "ipython",
    "version": 3
   },
   "file_extension": ".py",
   "mimetype": "text/x-python",
   "name": "python",
   "nbconvert_exporter": "python",
   "pygments_lexer": "ipython3",
   "version": "3.9.13"
  }
 },
 "nbformat": 4,
 "nbformat_minor": 5
}
