{
 "cells": [
  {
   "cell_type": "markdown",
   "id": "7f1b2793",
   "metadata": {},
   "source": [
    "# Data Visualization Sample Question Solution"
   ]
  },
  {
   "cell_type": "markdown",
   "id": "4112928a",
   "metadata": {},
   "source": [
    "For this week, we will be doing doing a couple of data visualizations using a couple different types of graphs. We will be using the built-in Titanic dataset. This is a very popular dataset and you have probably seen or used it before."
   ]
  },
  {
   "cell_type": "markdown",
   "id": "54eccc66",
   "metadata": {},
   "source": [
    "First, import in the correct libraries."
   ]
  },
  {
   "cell_type": "code",
   "execution_count": 1,
   "id": "ea38cc88",
   "metadata": {},
   "outputs": [],
   "source": [
    "# YOUR CODE HERE\n",
    "\n"
   ]
  },
  {
   "cell_type": "markdown",
   "id": "b8aed62c",
   "metadata": {},
   "source": [
    "1. Load in the Titanic dataset from seaborn. Display the dataset. "
   ]
  },
  {
   "cell_type": "code",
   "execution_count": 2,
   "id": "4516d8d3",
   "metadata": {},
   "outputs": [],
   "source": [
    "# YOUR CODE HERE\n",
    "\n"
   ]
  },
  {
   "cell_type": "markdown",
   "id": "d10952d2",
   "metadata": {},
   "source": [
    "2. First, let's make a bar chart. Choose 2 attributes, and make a bar chart."
   ]
  },
  {
   "cell_type": "code",
   "execution_count": 3,
   "id": "13ce01f3",
   "metadata": {},
   "outputs": [],
   "source": [
    "# YOUR CODE HERE\n",
    "\n"
   ]
  },
  {
   "cell_type": "markdown",
   "id": "39bd3f90",
   "metadata": {},
   "source": [
    "3. Next, let's make a histogram. Choose 1 attribute to make a histogram."
   ]
  },
  {
   "cell_type": "code",
   "execution_count": 4,
   "id": "7be59d82",
   "metadata": {},
   "outputs": [],
   "source": [
    "# YOUR CODE HERE\n",
    "\n"
   ]
  },
  {
   "cell_type": "markdown",
   "id": "4c11e7dd",
   "metadata": {},
   "source": [
    "4. For the next plot, let's make a boxplot. Choose 2 attributes to make a boxplot."
   ]
  },
  {
   "cell_type": "code",
   "execution_count": 5,
   "id": "4c70c0f1",
   "metadata": {},
   "outputs": [],
   "source": [
    "# YOUR CODE HERE\n",
    "\n"
   ]
  },
  {
   "cell_type": "markdown",
   "id": "6928f453",
   "metadata": {},
   "source": [
    "5. Finally, data visualization is about telling a story. In one sentence, what story is your visualizations trying to tell?"
   ]
  },
  {
   "cell_type": "markdown",
   "id": "054931eb",
   "metadata": {},
   "source": []
  }
 ],
 "metadata": {
  "kernelspec": {
   "display_name": "Python 3 (ipykernel)",
   "language": "python",
   "name": "python3"
  },
  "language_info": {
   "codemirror_mode": {
    "name": "ipython",
    "version": 3
   },
   "file_extension": ".py",
   "mimetype": "text/x-python",
   "name": "python",
   "nbconvert_exporter": "python",
   "pygments_lexer": "ipython3",
   "version": "3.9.13"
  }
 },
 "nbformat": 4,
 "nbformat_minor": 5
}
